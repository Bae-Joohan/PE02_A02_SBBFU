{
 "cells": [
  {
   "cell_type": "markdown",
   "id": "0d59fd8d",
   "metadata": {},
   "source": [
    "<h6>PE02_A02<h6>\n",
    "    \n",
    "# SBBFU Project "
   ]
  },
  {
   "cell_type": "markdown",
   "id": "f08ad02a",
   "metadata": {},
   "source": [
    "### 1. About the project \n",
    " \n",
    "    \n",
    "##### \n",
    "    \n",
    "> We aim to develop Python-based data analysis software\n",
    "> The goal is to develop software that can analyze wafer scale data in detail.\n",
    ">\n",
    "> At first,\n",
    ">\n",
    "> The main task is to receive data from the customer and then receive the request.\n",
    "> \n",
    "> Main request \n",
    "> + Lot\n",
    "> + Wafer\n",
    "> + Die row & colum\n",
    "> \n",
    "> We can analyze the selected data by specifying specific elements    \n",
    "> In order to develop such analysis software, \n",
    "> a black box(software) that implments this function is created to solve the customer's request.\n",
    ">\n",
    "> In the software,\n",
    "> We process the raw data and print it out. \n",
    "> We show the processed data as a 2*3 figure and save the file. \n",
    "> \n",
    "> In addition, it creates an Excel csv file that can analyze varous \n",
    "> xml files as a result file and makes a dataframe that can be compared simply.\n",
    ">\n",
    "> Finally, the final report The final goal is to make documentation about the tasks \n",
    "> we did using a jupyter notebook and report it to the customer.\n",
    ">\n",
    "> Please put the data in the 'Data' folder\n",
    "> specify the file path\n",
    "> Run the Run.py "
   ]
  },
  {
   "cell_type": "markdown",
   "id": "840c6afd",
   "metadata": {},
   "source": [
    "### 2. Run file description \n",
    " \n",
    "##### \n",
    " >Create a folder corresponding to the output that can be delivered to customers by copying the data in the **'Data'** folder to **'Result'**\n",
    " >Data is processed by selecting only files with the filename \"LMZ\"\n",
    " >Load the module that processes and fits raw data and the module that makes the data parsed from xml file into a csv file, respectively."
   ]
  },
  {
   "cell_type": "code",
   "execution_count": null,
   "id": "b755355d",
   "metadata": {},
   "outputs": [],
   "source": []
  }
 ],
 "metadata": {
  "kernelspec": {
   "display_name": "Python 3",
   "language": "python",
   "name": "python3"
  },
  "language_info": {
   "codemirror_mode": {
    "name": "ipython",
    "version": 3
   },
   "file_extension": ".py",
   "mimetype": "text/x-python",
   "name": "python",
   "nbconvert_exporter": "python",
   "pygments_lexer": "ipython3",
   "version": "3.8.8"
  }
 },
 "nbformat": 4,
 "nbformat_minor": 5
}
